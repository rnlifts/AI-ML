{
 "cells": [
  {
   "cell_type": "markdown",
   "id": "eba2c27d",
   "metadata": {},
   "source": [
    "# 1.Introduction to Keras.\n",
    "Keras is a high-level API for building and training deep learning models. It runs on top of other\n",
    "deep learning frameworks such as TensorFlow, Theano, and CNTK, and provides a simple interface for\n",
    "designing complex neural networks. Here, we’ll use Keras with TensorFlow as the backend. To begin,\n",
    "install Keras and TensorFlow:"
   ]
  },
  {
   "cell_type": "code",
   "execution_count": 12,
   "id": "9aa98223",
   "metadata": {
    "scrolled": true
   },
   "outputs": [
    {
     "name": "stdout",
     "output_type": "stream",
     "text": [
      "Requirement already satisfied: keras in c:\\users\\user\\anaconda3\\lib\\site-packages (3.9.2)\n",
      "Requirement already satisfied: tensorflow in c:\\users\\user\\anaconda3\\lib\\site-packages (2.19.0)\n",
      "Requirement already satisfied: absl-py in c:\\users\\user\\anaconda3\\lib\\site-packages (from keras) (2.2.2)\n",
      "Requirement already satisfied: numpy in c:\\users\\user\\anaconda3\\lib\\site-packages (from keras) (1.26.4)\n",
      "Requirement already satisfied: rich in c:\\users\\user\\anaconda3\\lib\\site-packages (from keras) (13.7.1)\n",
      "Requirement already satisfied: namex in c:\\users\\user\\anaconda3\\lib\\site-packages (from keras) (0.0.8)\n",
      "Requirement already satisfied: h5py in c:\\users\\user\\anaconda3\\lib\\site-packages (from keras) (3.11.0)\n",
      "Requirement already satisfied: optree in c:\\users\\user\\anaconda3\\lib\\site-packages (from keras) (0.14.1)\n",
      "Requirement already satisfied: ml-dtypes in c:\\users\\user\\anaconda3\\lib\\site-packages (from keras) (0.5.1)\n",
      "Requirement already satisfied: packaging in c:\\users\\user\\anaconda3\\lib\\site-packages (from keras) (24.1)\n",
      "Requirement already satisfied: astunparse>=1.6.0 in c:\\users\\user\\anaconda3\\lib\\site-packages (from tensorflow) (1.6.3)\n",
      "Requirement already satisfied: flatbuffers>=24.3.25 in c:\\users\\user\\anaconda3\\lib\\site-packages (from tensorflow) (25.2.10)\n",
      "Requirement already satisfied: gast!=0.5.0,!=0.5.1,!=0.5.2,>=0.2.1 in c:\\users\\user\\anaconda3\\lib\\site-packages (from tensorflow) (0.6.0)\n",
      "Requirement already satisfied: google-pasta>=0.1.1 in c:\\users\\user\\anaconda3\\lib\\site-packages (from tensorflow) (0.2.0)\n",
      "Requirement already satisfied: libclang>=13.0.0 in c:\\users\\user\\anaconda3\\lib\\site-packages (from tensorflow) (18.1.1)\n",
      "Requirement already satisfied: opt-einsum>=2.3.2 in c:\\users\\user\\anaconda3\\lib\\site-packages (from tensorflow) (3.4.0)\n",
      "Requirement already satisfied: protobuf!=4.21.0,!=4.21.1,!=4.21.2,!=4.21.3,!=4.21.4,!=4.21.5,<6.0.0dev,>=3.20.3 in c:\\users\\user\\anaconda3\\lib\\site-packages (from tensorflow) (4.25.3)\n",
      "Requirement already satisfied: requests<3,>=2.21.0 in c:\\users\\user\\anaconda3\\lib\\site-packages (from tensorflow) (2.32.3)\n",
      "Requirement already satisfied: setuptools in c:\\users\\user\\anaconda3\\lib\\site-packages (from tensorflow) (75.1.0)\n",
      "Requirement already satisfied: six>=1.12.0 in c:\\users\\user\\anaconda3\\lib\\site-packages (from tensorflow) (1.16.0)\n",
      "Requirement already satisfied: termcolor>=1.1.0 in c:\\users\\user\\anaconda3\\lib\\site-packages (from tensorflow) (3.0.1)\n",
      "Requirement already satisfied: typing-extensions>=3.6.6 in c:\\users\\user\\anaconda3\\lib\\site-packages (from tensorflow) (4.11.0)\n",
      "Requirement already satisfied: wrapt>=1.11.0 in c:\\users\\user\\anaconda3\\lib\\site-packages (from tensorflow) (1.14.1)\n",
      "Requirement already satisfied: grpcio<2.0,>=1.24.3 in c:\\users\\user\\anaconda3\\lib\\site-packages (from tensorflow) (1.71.0)\n",
      "Requirement already satisfied: tensorboard~=2.19.0 in c:\\users\\user\\anaconda3\\lib\\site-packages (from tensorflow) (2.19.0)\n",
      "Requirement already satisfied: wheel<1.0,>=0.23.0 in c:\\users\\user\\anaconda3\\lib\\site-packages (from astunparse>=1.6.0->tensorflow) (0.44.0)\n",
      "Requirement already satisfied: charset-normalizer<4,>=2 in c:\\users\\user\\anaconda3\\lib\\site-packages (from requests<3,>=2.21.0->tensorflow) (3.3.2)\n",
      "Requirement already satisfied: idna<4,>=2.5 in c:\\users\\user\\anaconda3\\lib\\site-packages (from requests<3,>=2.21.0->tensorflow) (3.7)\n",
      "Requirement already satisfied: urllib3<3,>=1.21.1 in c:\\users\\user\\anaconda3\\lib\\site-packages (from requests<3,>=2.21.0->tensorflow) (2.2.3)\n",
      "Requirement already satisfied: certifi>=2017.4.17 in c:\\users\\user\\anaconda3\\lib\\site-packages (from requests<3,>=2.21.0->tensorflow) (2025.1.31)\n",
      "Requirement already satisfied: markdown>=2.6.8 in c:\\users\\user\\anaconda3\\lib\\site-packages (from tensorboard~=2.19.0->tensorflow) (3.4.1)\n",
      "Requirement already satisfied: tensorboard-data-server<0.8.0,>=0.7.0 in c:\\users\\user\\anaconda3\\lib\\site-packages (from tensorboard~=2.19.0->tensorflow) (0.7.2)\n",
      "Requirement already satisfied: werkzeug>=1.0.1 in c:\\users\\user\\anaconda3\\lib\\site-packages (from tensorboard~=2.19.0->tensorflow) (3.0.3)\n",
      "Requirement already satisfied: markdown-it-py>=2.2.0 in c:\\users\\user\\anaconda3\\lib\\site-packages (from rich->keras) (2.2.0)\n",
      "Requirement already satisfied: pygments<3.0.0,>=2.13.0 in c:\\users\\user\\anaconda3\\lib\\site-packages (from rich->keras) (2.15.1)\n",
      "Requirement already satisfied: mdurl~=0.1 in c:\\users\\user\\anaconda3\\lib\\site-packages (from markdown-it-py>=2.2.0->rich->keras) (0.1.0)\n",
      "Requirement already satisfied: MarkupSafe>=2.1.1 in c:\\users\\user\\anaconda3\\lib\\site-packages (from werkzeug>=1.0.1->tensorboard~=2.19.0->tensorflow) (2.1.3)\n",
      "Note: you may need to restart the kernel to use updated packages.\n"
     ]
    }
   ],
   "source": [
    "pip install keras tensorflow"
   ]
  },
  {
   "cell_type": "code",
   "execution_count": 13,
   "id": "306dc0bf",
   "metadata": {},
   "outputs": [
    {
     "name": "stdout",
     "output_type": "stream",
     "text": [
      "Requirement already satisfied: pandas in c:\\users\\user\\anaconda3\\lib\\site-packages (2.2.3)\n",
      "Requirement already satisfied: numpy>=1.26.0 in c:\\users\\user\\anaconda3\\lib\\site-packages (from pandas) (1.26.4)\n",
      "Requirement already satisfied: python-dateutil>=2.8.2 in c:\\users\\user\\anaconda3\\lib\\site-packages (from pandas) (2.9.0.post0)\n",
      "Requirement already satisfied: pytz>=2020.1 in c:\\users\\user\\anaconda3\\lib\\site-packages (from pandas) (2024.1)\n",
      "Requirement already satisfied: tzdata>=2022.7 in c:\\users\\user\\anaconda3\\lib\\site-packages (from pandas) (2023.3)\n",
      "Requirement already satisfied: six>=1.5 in c:\\users\\user\\anaconda3\\lib\\site-packages (from python-dateutil>=2.8.2->pandas) (1.16.0)\n",
      "Note: you may need to restart the kernel to use updated packages.\n"
     ]
    }
   ],
   "source": [
    "pip install --upgrade pandas"
   ]
  },
  {
   "cell_type": "code",
   "execution_count": 14,
   "id": "490ba99f",
   "metadata": {},
   "outputs": [
    {
     "name": "stdout",
     "output_type": "stream",
     "text": [
      "3.9.2\n"
     ]
    }
   ],
   "source": [
    "import tensorflow as tf\n",
    "print(tf.keras.__version__)"
   ]
  },
  {
   "cell_type": "markdown",
   "id": "4912fdea",
   "metadata": {},
   "source": [
    "# 2.1 Why not Just Use Numpy?\n",
    "1. NumPy Lacks Automatic Differentiation:\n",
    "Neural Networks rely on backpropagation to compute gradients for optimization. Numpy does not\n",
    "support automatic differentiation.\n",
    "\n",
    "Manual Gradient Calculation in Numpy"
   ]
  },
  {
   "cell_type": "code",
   "execution_count": 15,
   "id": "717d8e9c",
   "metadata": {},
   "outputs": [
    {
     "name": "stdout",
     "output_type": "stream",
     "text": [
      "x: 4.0, f(x): 16.0\n",
      "x: 3.2, f(x): 10.240000000000002\n",
      "x: 2.56, f(x): 6.5536\n",
      "x: 2.048, f(x): 4.194304\n",
      "x: 1.6384, f(x): 2.68435456\n",
      "x: 1.31072, f(x): 1.7179869184000003\n",
      "x: 1.0485760000000002, f(x): 1.0995116277760004\n",
      "x: 0.8388608000000002, f(x): 0.7036874417766403\n",
      "x: 0.6710886400000001, f(x): 0.45035996273704976\n",
      "x: 0.5368709120000001, f(x): 0.2882303761517119\n"
     ]
    }
   ],
   "source": [
    "import numpy as np\n",
    "# Simple function f(x) = x^2\n",
    "def f(x):\n",
    "    return x ** 2\n",
    "# Manual derivative (f’(x) = 2x)\n",
    "def gradient(x):\n",
    "    return 2 * x\n",
    "# Update rule: x = x - learning_rate * gradient\n",
    "x = 5.0\n",
    "learning_rate = 0.1\n",
    "for _ in range(10): # Manually optimize for 10 steps\n",
    "    x -= learning_rate * gradient(x)\n",
    "    print(f\"x: {x}, f(x): {f(x)}\")"
   ]
  },
  {
   "cell_type": "markdown",
   "id": "aa7132f0",
   "metadata": {},
   "source": [
    "Gradient Computations with Keras."
   ]
  },
  {
   "cell_type": "code",
   "execution_count": 16,
   "id": "18ed131a",
   "metadata": {},
   "outputs": [
    {
     "name": "stdout",
     "output_type": "stream",
     "text": [
      "10.0\n"
     ]
    }
   ],
   "source": [
    "import tensorflow as tf\n",
    "x = tf.Variable(5.0) # Trainable variable\n",
    "with tf.GradientTape() as tape:\n",
    "    y = x ** 2 # y = x^2\n",
    "grad = tape.gradient(y, x) # Computes dy/dx automatically\n",
    "print(grad.numpy()) # Output: 10.0"
   ]
  },
  {
   "cell_type": "markdown",
   "id": "09670b86",
   "metadata": {},
   "source": [
    "# 2. Numpy is Slow for Large Models:\n",
    "• Numpy runs only on CPU and does not support GPU acceleration.\n",
    "\n",
    "• Deep Learning requires millions of matrix operations, which Numpy alone can not optimize effi-\n",
    "ciently.\n",
    "\n",
    "Example: Matrix Multiplication Speed (Numpy vs. Tensorflow on GPU)."
   ]
  },
  {
   "cell_type": "code",
   "execution_count": 17,
   "id": "6ef98d5a",
   "metadata": {},
   "outputs": [
    {
     "name": "stdout",
     "output_type": "stream",
     "text": [
      "NumPy Time: 0.09800052642822266\n",
      "TensorFlow Time: 0.060515403747558594\n"
     ]
    }
   ],
   "source": [
    "import numpy as np\n",
    "import tensorflow as tf\n",
    "import time\n",
    "# Create large random matrices\n",
    "size = (1000, 1000)\n",
    "A = np.random.rand(*size)\n",
    "B = np.random.rand(*size)\n",
    "# NumPy Multiplication\n",
    "start = time.time()\n",
    "C_numpy = np.dot(A, B)\n",
    "print(\"NumPy Time:\", time.time() - start)\n",
    "# TensorFlow Multiplication (for colab uses GPU Runtime if available)\n",
    "A_tf = tf.constant(A)\n",
    "B_tf = tf.constant(B)\n",
    "start = time.time()\n",
    "C_tf = tf.matmul(A_tf, B_tf)\n",
    "print(\"TensorFlow Time:\", time.time() - start)"
   ]
  },
  {
   "cell_type": "markdown",
   "id": "28eea68c",
   "metadata": {},
   "source": [
    "# 3. No Pre-built Activation Functions and Layers in NumPy.\n",
    "In deep learning, we use functions like:\n",
    "\n",
    "• sigmoid:\n",
    "\n",
    "• Softmax:\n",
    "\n",
    "With Numpy we’d have to manually implement every function. In keras it already has built it.\n",
    "\n",
    "Implementation of Activation Function with Keras."
   ]
  },
  {
   "cell_type": "code",
   "execution_count": 18,
   "id": "bd8c6b9a",
   "metadata": {},
   "outputs": [],
   "source": [
    "from tensorflow.keras.layers import Dense\n",
    "# from tensorflow.keras.activation import sigmoid\n",
    "layer = Dense(64, activation='sigmoid')"
   ]
  },
  {
   "cell_type": "markdown",
   "id": "ddbf202b",
   "metadata": {},
   "source": [
    "# 4. Keras supports Model Training, Numpy Does not:\n",
    "Once your model is built, training it in Numpy is complex:\n",
    "\n",
    "• Compute forward pass.\n",
    "\n",
    "• Compute loss.\n",
    "\n",
    "• Compute backward pass manually.\n",
    "\n",
    "• Update weights using gradients.\n",
    "\n",
    "Manually Training Network in Numpy."
   ]
  },
  {
   "cell_type": "markdown",
   "id": "9fa3f82a",
   "metadata": {},
   "source": [
    "# Exercise\n",
    "Task 1: Data Preparation\n",
    "\n",
    "Loading the Data"
   ]
  },
  {
   "cell_type": "code",
   "execution_count": 24,
   "id": "893ff147",
   "metadata": {},
   "outputs": [],
   "source": [
    "import os\n",
    "import numpy as np\n",
    "import tensorflow as tf\n",
    "from tensorflow import keras\n",
    "from tensorflow.keras import layers\n",
    "from PIL import Image\n",
    "from sklearn.model_selection import train_test_split\n",
    "from tensorflow.keras.utils import to_categorical\n",
    "\n",
    "# Define dataset paths\n",
    "\n",
    "test_dir =  r\"C:\\Users\\user\\Downloads\\Copy of devnagari digit (1)\\DevanagariHandwrittenDigitDataset\\Test\"\n",
    "train_dir = r\"C:\\Users\\user\\Downloads\\Copy of devnagari digit (1)\\DevanagariHandwrittenDigitDataset\\Train\"\n",
    "\n",
    "# Image size\n",
    "IMG_SIZE = (28, 28)\n",
    "NUM_CLASSES = 10  # Digits 0-9\n",
    "\n",
    "def load_data(data_dir):\n",
    "    images = []\n",
    "    labels = []\n",
    "    class_names = sorted(os.listdir(data_dir))  # Get sorted folder names (digits 0-9)\n",
    "    class_map = {name: i for i, name in enumerate(class_names)}  # Label mapping\n",
    "    \n",
    "    for label in class_names:\n",
    "        class_path = os.path.join(data_dir, label)\n",
    "        for file in os.listdir(class_path):\n",
    "            img_path = os.path.join(class_path, file)\n",
    "            img = Image.open(img_path).convert(\"L\")  # Convert to grayscale\n",
    "            img = img.resize(IMG_SIZE)  # Resize to 28x28\n",
    "            img_array = np.array(img) / 255.0  # Normalize (0-1)\n",
    "            images.append(img_array)\n",
    "            labels.append(class_map[label])\n",
    "    \n",
    "    return np.array(images), np.array(labels)\n",
    "\n",
    "# Load training and testing data\n",
    "X_train, y_train = load_data(train_dir)\n",
    "X_test, y_test = load_data(test_dir)\n",
    "\n",
    "# Reshape images for FCN (Flattened)\n",
    "X_train = X_train.reshape(-1, 28*28)\n",
    "X_test = X_test.reshape(-1, 28*28)\n",
    "\n",
    "# Convert labels to one-hot encoding\n",
    "y_train = to_categorical(y_train, NUM_CLASSES)\n",
    "y_test = to_categorical(y_test, NUM_CLASSES)\n",
    "\n",
    "# Split training data into train & validation (80% train, 20% validation)\n",
    "X_train, X_val, y_train, y_val = train_test_split(X_train, y_train, test_size=0.2, random_state=42)"
   ]
  },
  {
   "cell_type": "markdown",
   "id": "18275292",
   "metadata": {},
   "source": [
    "# Task 2: Build the FCN Model\n",
    "Model Architecture"
   ]
  },
  {
   "cell_type": "code",
   "execution_count": 25,
   "id": "018a0745",
   "metadata": {},
   "outputs": [
    {
     "name": "stderr",
     "output_type": "stream",
     "text": [
      "C:\\Users\\user\\anaconda3\\Lib\\site-packages\\keras\\src\\layers\\core\\dense.py:87: UserWarning: Do not pass an `input_shape`/`input_dim` argument to a layer. When using Sequential models, prefer using an `Input(shape)` object as the first layer in the model instead.\n",
      "  super().__init__(activity_regularizer=activity_regularizer, **kwargs)\n"
     ]
    }
   ],
   "source": [
    "# Build Fully Connected Network (FCN) model\n",
    "model = keras.Sequential([\n",
    "    layers.Dense(64, activation='sigmoid', input_shape=(28*28,)),\n",
    "    layers.Dense(128, activation='sigmoid'),\n",
    "    layers.Dense(256, activation='sigmoid'),\n",
    "    layers.Dense(NUM_CLASSES, activation='softmax')  # Output layer\n",
    "])"
   ]
  },
  {
   "cell_type": "markdown",
   "id": "062becb3",
   "metadata": {},
   "source": [
    "# Task 3: Compile the Model\n",
    "Model Compilation"
   ]
  },
  {
   "cell_type": "code",
   "execution_count": 26,
   "id": "d07242c8",
   "metadata": {},
   "outputs": [],
   "source": [
    "# Compile the model\n",
    "model.compile(optimizer='adam',\n",
    "              loss='categorical_crossentropy',\n",
    "              metrics=['accuracy'])"
   ]
  },
  {
   "cell_type": "markdown",
   "id": "e146769a",
   "metadata": {},
   "source": [
    "# Task 4: Train the Model\n",
    "Model Training"
   ]
  },
  {
   "cell_type": "code",
   "execution_count": 27,
   "id": "c4d763ee",
   "metadata": {},
   "outputs": [
    {
     "name": "stdout",
     "output_type": "stream",
     "text": [
      "Epoch 1/10\n",
      "\u001b[1m107/107\u001b[0m \u001b[32m━━━━━━━━━━━━━━━━━━━━\u001b[0m\u001b[37m\u001b[0m \u001b[1m9s\u001b[0m 10ms/step - accuracy: 0.2408 - loss: 2.1488 - val_accuracy: 0.7129 - val_loss: 1.1287\n",
      "Epoch 2/10\n",
      "\u001b[1m107/107\u001b[0m \u001b[32m━━━━━━━━━━━━━━━━━━━━\u001b[0m\u001b[37m\u001b[0m \u001b[1m1s\u001b[0m 5ms/step - accuracy: 0.7547 - loss: 0.8837 - val_accuracy: 0.8424 - val_loss: 0.5024\n",
      "Epoch 3/10\n",
      "\u001b[1m107/107\u001b[0m \u001b[32m━━━━━━━━━━━━━━━━━━━━\u001b[0m\u001b[37m\u001b[0m \u001b[1m1s\u001b[0m 5ms/step - accuracy: 0.8580 - loss: 0.4334 - val_accuracy: 0.8874 - val_loss: 0.3294\n",
      "Epoch 4/10\n",
      "\u001b[1m107/107\u001b[0m \u001b[32m━━━━━━━━━━━━━━━━━━━━\u001b[0m\u001b[37m\u001b[0m \u001b[1m1s\u001b[0m 6ms/step - accuracy: 0.9080 - loss: 0.2918 - val_accuracy: 0.9306 - val_loss: 0.2395\n",
      "Epoch 5/10\n",
      "\u001b[1m107/107\u001b[0m \u001b[32m━━━━━━━━━━━━━━━━━━━━\u001b[0m\u001b[37m\u001b[0m \u001b[1m1s\u001b[0m 8ms/step - accuracy: 0.9454 - loss: 0.1917 - val_accuracy: 0.9444 - val_loss: 0.1873\n",
      "Epoch 6/10\n",
      "\u001b[1m107/107\u001b[0m \u001b[32m━━━━━━━━━━━━━━━━━━━━\u001b[0m\u001b[37m\u001b[0m \u001b[1m0s\u001b[0m 4ms/step - accuracy: 0.9597 - loss: 0.1476 - val_accuracy: 0.9521 - val_loss: 0.1612\n",
      "Epoch 7/10\n",
      "\u001b[1m107/107\u001b[0m \u001b[32m━━━━━━━━━━━━━━━━━━━━\u001b[0m\u001b[37m\u001b[0m \u001b[1m1s\u001b[0m 7ms/step - accuracy: 0.9682 - loss: 0.1173 - val_accuracy: 0.9571 - val_loss: 0.1404\n",
      "Epoch 8/10\n",
      "\u001b[1m107/107\u001b[0m \u001b[32m━━━━━━━━━━━━━━━━━━━━\u001b[0m\u001b[37m\u001b[0m \u001b[1m0s\u001b[0m 4ms/step - accuracy: 0.9749 - loss: 0.0999 - val_accuracy: 0.9609 - val_loss: 0.1310\n",
      "Epoch 9/10\n",
      "\u001b[1m107/107\u001b[0m \u001b[32m━━━━━━━━━━━━━━━━━━━━\u001b[0m\u001b[37m\u001b[0m \u001b[1m0s\u001b[0m 3ms/step - accuracy: 0.9792 - loss: 0.0783 - val_accuracy: 0.9647 - val_loss: 0.1219\n",
      "Epoch 10/10\n",
      "\u001b[1m107/107\u001b[0m \u001b[32m━━━━━━━━━━━━━━━━━━━━\u001b[0m\u001b[37m\u001b[0m \u001b[1m0s\u001b[0m 3ms/step - accuracy: 0.9809 - loss: 0.0698 - val_accuracy: 0.9679 - val_loss: 0.1099\n"
     ]
    }
   ],
   "source": [
    "# Train the model\n",
    "history = model.fit(X_train, y_train, epochs=10, batch_size=128, validation_data=(X_val, y_val))"
   ]
  },
  {
   "cell_type": "markdown",
   "id": "b09fd804",
   "metadata": {},
   "source": [
    "# Task 5: Evaluate the Model\n",
    "Model Evaluation"
   ]
  },
  {
   "cell_type": "code",
   "execution_count": 28,
   "id": "2bea7022",
   "metadata": {},
   "outputs": [
    {
     "name": "stdout",
     "output_type": "stream",
     "text": [
      "\u001b[1m94/94\u001b[0m \u001b[32m━━━━━━━━━━━━━━━━━━━━\u001b[0m\u001b[37m\u001b[0m \u001b[1m0s\u001b[0m 1ms/step - accuracy: 0.9762 - loss: 0.0878\n",
      "Test Accuracy: 0.9737\n"
     ]
    }
   ],
   "source": [
    "# Evaluate on test data\n",
    "test_loss, test_acc = model.evaluate(X_test, y_test)\n",
    "print(f\"Test Accuracy: {test_acc:.4f}\")"
   ]
  },
  {
   "cell_type": "markdown",
   "id": "de55e9e4",
   "metadata": {},
   "source": [
    "# Task 6: Save and Load the Model\n",
    "Model Saving and Loading\n"
   ]
  },
  {
   "cell_type": "code",
   "execution_count": 29,
   "id": "527cc855",
   "metadata": {},
   "outputs": [],
   "source": [
    "# Save the model\n",
    "model.save(\"devnagari_fcn_model.keras\")\n",
    "\n",
    "# Load the saved model\n",
    "loaded_model = keras.models.load_model(\"devnagari_fcn_model.keras\")"
   ]
  },
  {
   "cell_type": "code",
   "execution_count": 30,
   "id": "e6d1032c",
   "metadata": {},
   "outputs": [
    {
     "name": "stdout",
     "output_type": "stream",
     "text": [
      "\u001b[1m94/94\u001b[0m \u001b[32m━━━━━━━━━━━━━━━━━━━━\u001b[0m\u001b[37m\u001b[0m \u001b[1m0s\u001b[0m 1ms/step - accuracy: 0.9762 - loss: 0.0878\n",
      "Loaded Model Accuracy: 0.9737\n"
     ]
    }
   ],
   "source": [
    "# Re-evaluate the loaded model\n",
    "loaded_loss, loaded_acc = loaded_model.evaluate(X_test, y_test)\n",
    "print(f\"Loaded Model Accuracy: {loaded_acc:.4f}\")"
   ]
  },
  {
   "cell_type": "markdown",
   "id": "3245092b",
   "metadata": {},
   "source": [
    "# Task 7: Predictions\n",
    "Making Predictions"
   ]
  },
  {
   "cell_type": "code",
   "execution_count": 31,
   "id": "e4854c64",
   "metadata": {},
   "outputs": [
    {
     "name": "stdout",
     "output_type": "stream",
     "text": [
      "\u001b[1m94/94\u001b[0m \u001b[32m━━━━━━━━━━━━━━━━━━━━\u001b[0m\u001b[37m\u001b[0m \u001b[1m0s\u001b[0m 1ms/step\n"
     ]
    }
   ],
   "source": [
    "# Making Predictions\n",
    "predictions = loaded_model.predict(X_test)\n",
    "predicted_labels = np.argmax(predictions, axis=1)"
   ]
  },
  {
   "cell_type": "code",
   "execution_count": 32,
   "id": "4a10d725",
   "metadata": {},
   "outputs": [
    {
     "name": "stdout",
     "output_type": "stream",
     "text": [
      "Sample Predictions: [0 0 0 0 0 0 0 0 0 0]\n"
     ]
    }
   ],
   "source": [
    "# Display some predictions\n",
    "print(\"Sample Predictions:\", predicted_labels[:10])"
   ]
  },
  {
   "cell_type": "code",
   "execution_count": 33,
   "id": "d0a5aacd",
   "metadata": {},
   "outputs": [
    {
     "data": {
      "image/png": "[encoded data removed]",
      "text/plain": [
       "<Figure size 1000x400 with 10 Axes>"
      ]
     },
     "metadata": {},
     "output_type": "display_data"
    }
   ],
   "source": [
    "import matplotlib.pyplot as plt\n",
    "# Visualize some predictions\n",
    "plt.figure(figsize=(10, 4))\n",
    "for i in range(10):\n",
    "    plt.subplot(2, 5, i + 1)\n",
    "    plt.imshow(X_test[i].reshape(28, 28), cmap='gray')\n",
    "    plt.title(f\"Pred: {predicted_labels[i]}\")\n",
    "    plt.axis(\"off\")\n",
    "plt.show()"
   ]
  }
 ],
 "metadata": {
  "kernelspec": {
   "display_name": "Python 3 (ipykernel)",
   "language": "python",
   "name": "python3"
  },
  "language_info": {
   "codemirror_mode": {
    "name": "ipython",
    "version": 3
   },
   "file_extension": ".py",
   "mimetype": "text/x-python",
   "name": "python",
   "nbconvert_exporter": "python",
   "pygments_lexer": "ipython3",
   "version": "3.12.7"
  }
 },
 "nbformat": 4,
 "nbformat_minor": 5
}
